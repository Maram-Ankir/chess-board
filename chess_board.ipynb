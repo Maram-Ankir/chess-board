{
 "cells": [
  {
   "cell_type": "code",
   "execution_count": 23,
   "source": [
    "import matplotlib.pyplot as plt\n",
    "import numpy as np"
   ],
   "outputs": [],
   "metadata": {}
  },
  {
   "cell_type": "code",
   "execution_count": 24,
   "source": [
    "class Board:\n",
    "      def __init__(self):\n",
    "        self.grid = np.ones((8,8,3),np.float64)\n",
    "        self.arr_red = []\n",
    "        self.arr_blue = []\n",
    "        div = 1\n",
    "        for col in range(8):\n",
    "            for row in range(8):\n",
    "                div = 0 if div else 1 \n",
    "                if row % 2 == div and col % 2 ==div:\n",
    "                    self.grid[col][row] =np.array([0,0,0])\n",
    "      def add_red(self ,col , row):\n",
    "            self.grid[col][row] =np.array([1,0,0])\n",
    "            self.arr_red=[col , row ]\n",
    "\n",
    "      def add_blue(self ,col , row):\n",
    "            self.grid[col][row] = np.array([0,0,1])\n",
    "            self.arr_blue=[col , row ]\n",
    "\n",
    "      def render(self):\n",
    "         plt.imshow(self.grid)\n",
    "\n",
    "      def is_under_attack(self):\n",
    "          if self.arr_red[0] == self.arr_blue[0]:\n",
    "              return True\n",
    "          elif self.arr_red[1] == self.arr_blue[1]:\n",
    "              return True\n",
    "          elif abs(self.arr_red[1] - self.arr_blue[1]) == abs(self.arr_red[0]-self.arr_blue[0]):\n",
    "            return True\n",
    "          else:    \n",
    "           return False\n",
    "\n",
    "      \n",
    "\n"
   ],
   "outputs": [],
   "metadata": {}
  },
  {
   "cell_type": "code",
   "execution_count": 25,
   "source": [
    "def test_same_raw():\n",
    "    checkboard1= Board()\n",
    "    checkboard1.add_blue(4,1)\n",
    "    checkboard1.add_red(4,2)\n",
    "    checkboard1.render() \n",
    "    print(checkboard1.is_under_attack())\n",
    "    print('Queen under attack')\n",
    "    assert checkboard1.is_under_attack() == True\n",
    "test_same_raw()"
   ],
   "outputs": [
    {
     "output_type": "stream",
     "name": "stdout",
     "text": [
      "True\n",
      "Queen under attack\n"
     ]
    },
    {
     "output_type": "display_data",
     "data": {
      "text/plain": [
       "<Figure size 432x288 with 1 Axes>"
      ],
      "image/png": "[encoded data removed]"
     },
     "metadata": {
      "needs_background": "light"
     }
    }
   ],
   "metadata": {}
  },
  {
   "cell_type": "code",
   "execution_count": 26,
   "source": [
    "def test_same_column():\n",
    "    checkboard= Board()\n",
    "    checkboard.add_blue(3,1)\n",
    "    checkboard.add_red(4,1)\n",
    "    print(checkboard.is_under_attack())\n",
    "    checkboard.render() \n",
    "    assert checkboard.is_under_attack() == True\n",
    "    print('Queen under attack')\n",
    "\n",
    "test_same_column()"
   ],
   "outputs": [
    {
     "output_type": "stream",
     "name": "stdout",
     "text": [
      "True\n",
      "Queen under attack\n"
     ]
    },
    {
     "output_type": "display_data",
     "data": {
      "text/plain": [
       "<Figure size 432x288 with 1 Axes>"
      ],
      "image/png": "[encoded data removed]"
     },
     "metadata": {
      "needs_background": "light"
     }
    }
   ],
   "metadata": {}
  },
  {
   "cell_type": "code",
   "execution_count": 27,
   "source": [
    "\n",
    "def test_is_not_under_attack():\n",
    "    checkboard2= Board()\n",
    "    checkboard2.add_blue(4,2)\n",
    "    checkboard2.add_red(3,4)\n",
    "    print(checkboard2.is_under_attack())\n",
    "    checkboard2.render() \n",
    "    assert checkboard2.is_under_attack() == False\n",
    "    print('Queen is safe')\n",
    "test_is_not_under_attack()"
   ],
   "outputs": [
    {
     "output_type": "stream",
     "name": "stdout",
     "text": [
      "False\n",
      "Queen is safe\n"
     ]
    },
    {
     "output_type": "display_data",
     "data": {
      "text/plain": [
       "<Figure size 432x288 with 1 Axes>"
      ],
      "image/png": "[encoded data removed]"
     },
     "metadata": {
      "needs_background": "light"
     }
    }
   ],
   "metadata": {}
  },
  {
   "cell_type": "code",
   "execution_count": 30,
   "source": [
    "def test_same_diagonal():\n",
    "    checkboard1= Board()\n",
    "    checkboard1.add_blue(2,3)\n",
    "    checkboard1.add_red(5,6)\n",
    "    checkboard1.render() \n",
    "    assert checkboard1.is_under_attack() == True\n",
    "    print('Queen under attack')\n",
    "test_same_diagonal()"
   ],
   "outputs": [
    {
     "output_type": "error",
     "ename": "AssertionError",
     "evalue": "",
     "traceback": [
      "\u001b[0;31m---------------------------------------------------------------------------\u001b[0m",
      "\u001b[0;31mAssertionError\u001b[0m                            Traceback (most recent call last)",
      "\u001b[0;32m/tmp/ipykernel_5732/3917455414.py\u001b[0m in \u001b[0;36m<module>\u001b[0;34m\u001b[0m\n\u001b[1;32m      6\u001b[0m     \u001b[0;32massert\u001b[0m \u001b[0mcheckboard1\u001b[0m\u001b[0;34m.\u001b[0m\u001b[0mis_under_attack\u001b[0m\u001b[0;34m(\u001b[0m\u001b[0;34m)\u001b[0m \u001b[0;34m==\u001b[0m \u001b[0;32mTrue\u001b[0m\u001b[0;34m\u001b[0m\u001b[0;34m\u001b[0m\u001b[0m\n\u001b[1;32m      7\u001b[0m     \u001b[0mprint\u001b[0m\u001b[0;34m(\u001b[0m\u001b[0;34m'Queen under attack'\u001b[0m\u001b[0;34m)\u001b[0m\u001b[0;34m\u001b[0m\u001b[0;34m\u001b[0m\u001b[0m\n\u001b[0;32m----> 8\u001b[0;31m \u001b[0mtest_same_diagonal\u001b[0m\u001b[0;34m(\u001b[0m\u001b[0;34m)\u001b[0m\u001b[0;34m\u001b[0m\u001b[0;34m\u001b[0m\u001b[0m\n\u001b[0m",
      "\u001b[0;32m/tmp/ipykernel_5732/3917455414.py\u001b[0m in \u001b[0;36mtest_same_diagonal\u001b[0;34m()\u001b[0m\n\u001b[1;32m      4\u001b[0m     \u001b[0mcheckboard1\u001b[0m\u001b[0;34m.\u001b[0m\u001b[0madd_red\u001b[0m\u001b[0;34m(\u001b[0m\u001b[0;36m5\u001b[0m\u001b[0;34m,\u001b[0m\u001b[0;36m4\u001b[0m\u001b[0;34m)\u001b[0m\u001b[0;34m\u001b[0m\u001b[0;34m\u001b[0m\u001b[0m\n\u001b[1;32m      5\u001b[0m     \u001b[0mcheckboard1\u001b[0m\u001b[0;34m.\u001b[0m\u001b[0mrender\u001b[0m\u001b[0;34m(\u001b[0m\u001b[0;34m)\u001b[0m\u001b[0;34m\u001b[0m\u001b[0;34m\u001b[0m\u001b[0m\n\u001b[0;32m----> 6\u001b[0;31m     \u001b[0;32massert\u001b[0m \u001b[0mcheckboard1\u001b[0m\u001b[0;34m.\u001b[0m\u001b[0mis_under_attack\u001b[0m\u001b[0;34m(\u001b[0m\u001b[0;34m)\u001b[0m \u001b[0;34m==\u001b[0m \u001b[0;32mTrue\u001b[0m\u001b[0;34m\u001b[0m\u001b[0;34m\u001b[0m\u001b[0m\n\u001b[0m\u001b[1;32m      7\u001b[0m     \u001b[0mprint\u001b[0m\u001b[0;34m(\u001b[0m\u001b[0;34m'Queen under attack'\u001b[0m\u001b[0;34m)\u001b[0m\u001b[0;34m\u001b[0m\u001b[0;34m\u001b[0m\u001b[0m\n\u001b[1;32m      8\u001b[0m \u001b[0mtest_same_diagonal\u001b[0m\u001b[0;34m(\u001b[0m\u001b[0;34m)\u001b[0m\u001b[0;34m\u001b[0m\u001b[0;34m\u001b[0m\u001b[0m\n",
      "\u001b[0;31mAssertionError\u001b[0m: "
     ]
    },
    {
     "output_type": "display_data",
     "data": {
      "text/plain": [
       "<Figure size 432x288 with 1 Axes>"
      ],
      "image/png": "[encoded data removed]"
     },
     "metadata": {
      "needs_background": "light"
     }
    }
   ],
   "metadata": {}
  }
 ],
 "metadata": {
  "kernelspec": {
   "display_name": "Python 3 (ipykernel)",
   "language": "python",
   "name": "python3"
  },
  "language_info": {
   "codemirror_mode": {
    "name": "ipython",
    "version": 3
   },
   "file_extension": ".py",
   "mimetype": "text/x-python",
   "name": "python",
   "nbconvert_exporter": "python",
   "pygments_lexer": "ipython3",
   "version": "3.9.6"
  }
 },
 "nbformat": 4,
 "nbformat_minor": 4
}